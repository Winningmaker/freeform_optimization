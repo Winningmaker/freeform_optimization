{
 "cells": [
  {
   "cell_type": "code",
   "execution_count": 1,
   "metadata": {},
   "outputs": [
    {
     "ename": "ModuleNotFoundError",
     "evalue": "No module named 'numpy'",
     "output_type": "error",
     "traceback": [
      "\u001b[0;31m---------------------------------------------------------------------------\u001b[0m",
      "\u001b[0;31mModuleNotFoundError\u001b[0m                       Traceback (most recent call last)",
      "Cell \u001b[0;32mIn[1], line 2\u001b[0m\n\u001b[1;32m      1\u001b[0m \u001b[38;5;66;03m#laplace运算测试\u001b[39;00m\n\u001b[0;32m----> 2\u001b[0m \u001b[38;5;28;01mimport\u001b[39;00m \u001b[38;5;21;01mnumpy\u001b[39;00m \u001b[38;5;28;01mas\u001b[39;00m \u001b[38;5;21;01mnp\u001b[39;00m\n\u001b[1;32m      3\u001b[0m \u001b[38;5;28;01mfrom\u001b[39;00m \u001b[38;5;21;01mscipy\u001b[39;00m\u001b[38;5;21;01m.\u001b[39;00m\u001b[38;5;21;01mndimage\u001b[39;00m \u001b[38;5;28;01mimport\u001b[39;00m laplace\n\u001b[1;32m      5\u001b[0m \u001b[38;5;66;03m# 创建一个示例矩阵\u001b[39;00m\n",
      "\u001b[0;31mModuleNotFoundError\u001b[0m: No module named 'numpy'"
     ]
    }
   ],
   "source": [
    "#laplace运算测试\n",
    "import numpy as np\n",
    "from scipy.ndimage import laplace\n",
    "\n",
    "# 创建一个示例矩阵\n",
    "matrix = np.array([[1, 2, 3],\n",
    "                   [4, 5, 6],\n",
    "                   [7, 8, 9]])\n",
    "\n",
    "# 对矩阵进行拉普拉斯运算\n",
    "laplacian_matrix = laplace(matrix,mode='constant',cval=0.0)\n",
    "\n",
    "print(\"Original Matrix:\")\n",
    "print(matrix)\n",
    "print(\"\\nLaplacian Matrix:\")\n",
    "print(laplacian_matrix)"
   ]
  },
  {
   "cell_type": "code",
   "execution_count": 1,
   "metadata": {},
   "outputs": [
    {
     "name": "stdout",
     "output_type": "stream",
     "text": [
      "[[-4.  1.  0.  1.  0.  0.  0.  0.  0.]\n",
      " [ 1. -4.  1.  0.  1.  0.  0.  0.  0.]\n",
      " [ 0.  1. -4.  0.  0.  1.  0.  0.  0.]\n",
      " [ 1.  0.  0. -4.  1.  0.  1.  0.  0.]\n",
      " [ 0.  1.  0.  1. -4.  1.  0.  1.  0.]\n",
      " [ 0.  0.  1.  0.  1. -4.  0.  0.  1.]\n",
      " [ 0.  0.  0.  1.  0.  0. -4.  1.  0.]\n",
      " [ 0.  0.  0.  0.  1.  0.  1. -4.  1.]\n",
      " [ 0.  0.  0.  0.  0.  1.  0.  1. -4.]]\n"
     ]
    }
   ],
   "source": [
    "import numpy as np\n",
    "from scipy.sparse import spdiags\n",
    "\n",
    "def discrete_laplacian_2d_matrix(m, n):\n",
    "    \"\"\"\n",
    "    生成一个m x n的二维离散拉普拉斯算子的系统矩阵。\n",
    "    \n",
    "    参数:\n",
    "    m, n -- 矩阵的行和列的大小\n",
    "    \n",
    "    返回:\n",
    "    L -- 二维离散拉普拉斯算子的系统矩阵\n",
    "    \"\"\"\n",
    "    # 初始化矩阵\n",
    "    L = np.zeros((m * n, m * n))\n",
    "    \n",
    "    # 遍历每个像素点\n",
    "    for i in range(m):\n",
    "        for j in range(n):\n",
    "            idx = i * n + j  # 当前像素的索引\n",
    "            # 计算拉普拉斯算子\n",
    "            if i > 0:  # 上\n",
    "                L[idx, idx - n] = 1\n",
    "            if i < m - 1:  # 下\n",
    "                L[idx, idx + n] = 1\n",
    "            if j > 0:  # 左\n",
    "                L[idx, idx - 1] = 1\n",
    "            if j < n - 1:  # 右\n",
    "                L[idx, idx + 1] = 1\n",
    "            # 主对角线元素\n",
    "            L[idx, idx] = -4\n",
    "    \n",
    "    return L\n",
    "\n",
    "# 示例：创建一个3x3的二维离散拉普拉斯算子矩阵\n",
    "m, n =3 , 3\n",
    "L_2d = discrete_laplacian_2d_matrix(m, n)\n",
    "print(L_2d)"
   ]
  }
 ],
 "metadata": {
  "kernelspec": {
   "display_name": "Python 3",
   "language": "python",
   "name": "python3"
  },
  "language_info": {
   "codemirror_mode": {
    "name": "ipython",
    "version": 3
   },
   "file_extension": ".py",
   "mimetype": "text/x-python",
   "name": "python",
   "nbconvert_exporter": "python",
   "pygments_lexer": "ipython3",
   "version": "3.8.10"
  }
 },
 "nbformat": 4,
 "nbformat_minor": 2
}
