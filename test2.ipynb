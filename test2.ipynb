{
 "cells": [
  {
   "cell_type": "code",
   "execution_count": null,
   "metadata": {},
   "outputs": [
    {
     "name": "stdout",
     "output_type": "stream",
     "text": [
      "Original Matrix:\n",
      "[[1 2 3]\n",
      " [4 5 6]\n",
      " [7 8 9]]\n",
      "\n",
      "Laplacian Matrix:\n",
      "[[  2   1  -4]\n",
      " [ -3   0  -7]\n",
      " [-16 -11 -22]]\n"
     ]
    }
   ],
   "source": [
    "#laplace运算测试\n",
    "import numpy as np\n",
    "from scipy.ndimage import laplace\n",
    "\n",
    "# 创建一个示例矩阵\n",
    "matrix = np.array([[1, 2, 3],\n",
    "                   [4, 5, 6],\n",
    "                   [7, 8, 9]])\n",
    "\n",
    "# 对矩阵进行拉普拉斯运算\n",
    "laplacian_matrix = laplace(matrix,mode='constant',cval=0.0)\n",
    "\n",
    "print(\"Original Matrix:\")\n",
    "print(matrix)\n",
    "print(\"\\nLaplacian Matrix:\")\n",
    "print(laplacian_matrix)"
   ]
  },
  {
   "cell_type": "code",
   "execution_count": null,
   "metadata": {},
   "outputs": [
    {
     "ename": "MemoryError",
     "evalue": "Unable to allocate 15.1 GiB for an array with shape (45000, 45000) and data type float64",
     "output_type": "error",
     "traceback": [
      "\u001b[1;31m---------------------------------------------------------------------------\u001b[0m",
      "\u001b[1;31mMemoryError\u001b[0m                               Traceback (most recent call last)",
      "Cell \u001b[1;32mIn[18], line 37\u001b[0m\n\u001b[0;32m     35\u001b[0m \u001b[38;5;66;03m# 示例：创建一个3x3的二维离散拉普拉斯算子矩阵\u001b[39;00m\n\u001b[0;32m     36\u001b[0m m, n \u001b[38;5;241m=\u001b[39m \u001b[38;5;241m300\u001b[39m, \u001b[38;5;241m150\u001b[39m\n\u001b[1;32m---> 37\u001b[0m L_2d \u001b[38;5;241m=\u001b[39m \u001b[43mdiscrete_laplacian_2d_matrix\u001b[49m\u001b[43m(\u001b[49m\u001b[43mm\u001b[49m\u001b[43m,\u001b[49m\u001b[43m \u001b[49m\u001b[43mn\u001b[49m\u001b[43m)\u001b[49m\n\u001b[0;32m     38\u001b[0m \u001b[38;5;28mprint\u001b[39m(L_2d)\n",
      "Cell \u001b[1;32mIn[18], line 15\u001b[0m, in \u001b[0;36mdiscrete_laplacian_2d_matrix\u001b[1;34m(m, n)\u001b[0m\n\u001b[0;32m      5\u001b[0m \u001b[38;5;250m\u001b[39m\u001b[38;5;124;03m\"\"\"\u001b[39;00m\n\u001b[0;32m      6\u001b[0m \u001b[38;5;124;03m生成一个m x n的二维离散拉普拉斯算子的系统矩阵。\u001b[39;00m\n\u001b[0;32m      7\u001b[0m \u001b[38;5;124;03m\u001b[39;00m\n\u001b[1;32m   (...)\u001b[0m\n\u001b[0;32m     12\u001b[0m \u001b[38;5;124;03mL -- 二维离散拉普拉斯算子的系统矩阵\u001b[39;00m\n\u001b[0;32m     13\u001b[0m \u001b[38;5;124;03m\"\"\"\u001b[39;00m\n\u001b[0;32m     14\u001b[0m \u001b[38;5;66;03m# 初始化矩阵\u001b[39;00m\n\u001b[1;32m---> 15\u001b[0m L \u001b[38;5;241m=\u001b[39m \u001b[43mnp\u001b[49m\u001b[38;5;241;43m.\u001b[39;49m\u001b[43mzeros\u001b[49m\u001b[43m(\u001b[49m\u001b[43m(\u001b[49m\u001b[43mm\u001b[49m\u001b[43m \u001b[49m\u001b[38;5;241;43m*\u001b[39;49m\u001b[43m \u001b[49m\u001b[43mn\u001b[49m\u001b[43m,\u001b[49m\u001b[43m \u001b[49m\u001b[43mm\u001b[49m\u001b[43m \u001b[49m\u001b[38;5;241;43m*\u001b[39;49m\u001b[43m \u001b[49m\u001b[43mn\u001b[49m\u001b[43m)\u001b[49m\u001b[43m)\u001b[49m\n\u001b[0;32m     17\u001b[0m \u001b[38;5;66;03m# 遍历每个像素点\u001b[39;00m\n\u001b[0;32m     18\u001b[0m \u001b[38;5;28;01mfor\u001b[39;00m i \u001b[38;5;129;01min\u001b[39;00m \u001b[38;5;28mrange\u001b[39m(m):\n",
      "\u001b[1;31mMemoryError\u001b[0m: Unable to allocate 15.1 GiB for an array with shape (45000, 45000) and data type float64"
     ]
    }
   ],
   "source": [
    "import numpy as np\n",
    "from scipy.sparse import spdiags\n",
    "\n",
    "def discrete_laplacian_2d_matrix(m, n):\n",
    "    \"\"\"\n",
    "    生成一个m x n的二维离散拉普拉斯算子的系统矩阵。\n",
    "    \n",
    "    参数:\n",
    "    m, n -- 矩阵的行和列的大小\n",
    "    \n",
    "    返回:\n",
    "    L -- 二维离散拉普拉斯算子的系统矩阵\n",
    "    \"\"\"\n",
    "    # 初始化矩阵\n",
    "    L = np.zeros((m * n, m * n))\n",
    "    \n",
    "    # 遍历每个像素点\n",
    "    for i in range(m):\n",
    "        for j in range(n):\n",
    "            idx = i * n + j  # 当前像素的索引\n",
    "            # 计算拉普拉斯算子\n",
    "            if i > 0:  # 上\n",
    "                L[idx, idx - n] = 1\n",
    "            if i < m - 1:  # 下\n",
    "                L[idx, idx + n] = 1\n",
    "            if j > 0:  # 左\n",
    "                L[idx, idx - 1] = 1\n",
    "            if j < n - 1:  # 右\n",
    "                L[idx, idx + 1] = 1\n",
    "            # 主对角线元素\n",
    "            L[idx, idx] = -4\n",
    "    \n",
    "    return L\n",
    "\n",
    "# 示例：创建一个3x3的二维离散拉普拉斯算子矩阵\n",
    "m, n = 300, 100\n",
    "L_2d = discrete_laplacian_2d_matrix(m, n)\n",
    "print(L_2d)"
   ]
  }
 ],
 "metadata": {
  "kernelspec": {
   "display_name": "ljf",
   "language": "python",
   "name": "python3"
  },
  "language_info": {
   "codemirror_mode": {
    "name": "ipython",
    "version": 3
   },
   "file_extension": ".py",
   "mimetype": "text/x-python",
   "name": "python",
   "nbconvert_exporter": "python",
   "pygments_lexer": "ipython3",
   "version": "3.8.20"
  }
 },
 "nbformat": 4,
 "nbformat_minor": 2
}
