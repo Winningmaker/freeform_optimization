{
 "cells": [
  {
   "cell_type": "code",
   "execution_count": 11,
   "metadata": {},
   "outputs": [
    {
     "name": "stdout",
     "output_type": "stream",
     "text": [
      "[[1. 1. 1. 1.]\n",
      " [1. 1. 1. 1.]\n",
      " [1. 1. 1. 1.]\n",
      " [1. 1. 1. 1.]]\n",
      "[[1. 1. 1. 1.]\n",
      " [1. 1. 1. 1.]\n",
      " [1. 1. 1. 1.]\n",
      " [1. 1. 1. 1.]]\n"
     ]
    }
   ],
   "source": [
    "import cv2 as op    #图像处理\n",
    "import numpy as np #数组矩阵处理\n",
    "import matplotlib.pyplot as plt #灰度图显示\n",
    "\n",
    "one=np.ones((4,4))\n",
    "map1 = np.array([[1, 1, 1, 1], [1, 1, 1, 1], [1, 1, 1, 1], [1, 1, 1, 1]],dtype=np.float32)\n",
    "map2=map1\n",
    "map=op.remap(one.astype(np.float32),map1,map2,interpolation=op.INTER_LINEAR)\n",
    "\n",
    "print(one)\n",
    "print(map)"
   ]
  },
  {
   "cell_type": "code",
   "execution_count": 20,
   "metadata": {},
   "outputs": [
    {
     "name": "stdout",
     "output_type": "stream",
     "text": [
      "Original array:\n",
      "[[0. 0. 0. 0.]\n",
      " [0. 0. 0. 0.]\n",
      " [0. 0. 0. 0.]\n",
      " [1. 1. 1. 1.]]\n",
      "Remapped array:\n",
      "[[0. 0. 0. 0.]\n",
      " [0. 0. 0. 0.]\n",
      " [0. 0. 0. 0.]\n",
      " [1. 1. 1. 1.]]\n"
     ]
    }
   ],
   "source": [
    "import cv2 as op    # 图像处理\n",
    "import numpy as np # 数组矩阵处理\n",
    "import matplotlib.pyplot as plt # 灰度图显示\n",
    "\n",
    "one = np.zeros((4, 4), dtype=np.float32)\n",
    "one[3,:]=1\n",
    "map_x=np.ones((4,4),np.float32)\n",
    "map2 = np.array([[0, 0, 0, 0], [1, 1, 1, 1], [2, 2, 2, 2], [3, 3, 3, 3]], dtype=np.float32)\n",
    "map = op.remap(one, map_x, map2, interpolation=op.INTER_LINEAR)\n",
    "\n",
    "print(\"Original array:\")\n",
    "print(one)\n",
    "print(\"Remapped array:\")\n",
    "print(map)"
   ]
  },
  {
   "cell_type": "code",
   "execution_count": 1,
   "metadata": {},
   "outputs": [
    {
     "name": "stdout",
     "output_type": "stream",
     "text": [
      "Original matrix:\n",
      "[[1 2 3]\n",
      " [4 5 6]\n",
      " [7 8 9]]\n",
      "Gradient in x direction:\n",
      "[[1. 1. 1.]\n",
      " [1. 1. 1.]\n",
      " [1. 1. 1.]]\n",
      "Gradient in y direction:\n",
      "[[3. 3. 3.]\n",
      " [3. 3. 3.]\n",
      " [3. 3. 3.]]\n"
     ]
    }
   ],
   "source": [
    "import numpy as np\n",
    "\n",
    "# 示例二维矩阵\n",
    "matrix = np.array([[1, 2, 3],\n",
    "                   [4, 5, 6],\n",
    "                   [7, 8, 9]])\n",
    "\n",
    "# 计算 x 方向上的梯度（水平梯度）\n",
    "grad_x = np.gradient(matrix, axis=1)\n",
    "\n",
    "# 计算 y 方向上的梯度（竖直梯度）\n",
    "grad_y = np.gradient(matrix, axis=0)\n",
    "\n",
    "print(\"Original matrix:\")\n",
    "print(matrix)\n",
    "print(\"Gradient in x direction:\")\n",
    "print(grad_x)\n",
    "print(\"Gradient in y direction:\")\n",
    "print(grad_y)"
   ]
  },
  {
   "cell_type": "code",
   "execution_count": 2,
   "metadata": {},
   "outputs": [
    {
     "name": "stdout",
     "output_type": "stream",
     "text": [
      "Original matrix:\n",
      "[[1 2 3]\n",
      " [4 5 6]\n",
      " [7 8 9]]\n",
      "Gradient in x direction:\n",
      "[[4 8 4]\n",
      " [4 8 4]\n",
      " [4 8 4]]\n",
      "Gradient in y direction:\n",
      "[[12 12 12]\n",
      " [24 24 24]\n",
      " [12 12 12]]\n"
     ]
    }
   ],
   "source": [
    "import numpy as np\n",
    "from scipy import ndimage\n",
    "\n",
    "# 示例二维矩阵\n",
    "matrix = np.array([[1, 2, 3],\n",
    "                   [4, 5, 6],\n",
    "                   [7, 8, 9]])\n",
    "\n",
    "# 计算 x 方向上的梯度（水平梯度）\n",
    "grad_x = ndimage.sobel(matrix, axis=1)\n",
    "\n",
    "# 计算 y 方向上的梯度（竖直梯度）\n",
    "grad_y = ndimage.sobel(matrix, axis=0)\n",
    "\n",
    "print(\"Original matrix:\")\n",
    "print(matrix)\n",
    "print(\"Gradient in x direction:\")\n",
    "print(grad_x)\n",
    "print(\"Gradient in y direction:\")\n",
    "print(grad_y)"
   ]
  }
 ],
 "metadata": {
  "kernelspec": {
   "display_name": "Python 3",
   "language": "python",
   "name": "python3"
  },
  "language_info": {
   "codemirror_mode": {
    "name": "ipython",
    "version": 3
   },
   "file_extension": ".py",
   "mimetype": "text/x-python",
   "name": "python",
   "nbconvert_exporter": "python",
   "pygments_lexer": "ipython3",
   "version": "3.8.10"
  }
 },
 "nbformat": 4,
 "nbformat_minor": 2
}
